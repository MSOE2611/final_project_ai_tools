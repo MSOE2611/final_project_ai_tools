{
 "cells": [
  {
   "cell_type": "code",
   "execution_count": 1,
   "id": "1a333aca",
   "metadata": {},
   "outputs": [
    {
     "name": "stderr",
     "output_type": "stream",
     "text": [
      "2024-12-09 20:04:31.743995: I tensorflow/core/util/port.cc:113] oneDNN custom operations are on. You may see slightly different numerical results due to floating-point round-off errors from different computation orders. To turn them off, set the environment variable `TF_ENABLE_ONEDNN_OPTS=0`.\n",
      "2024-12-09 20:04:32.809971: E external/local_xla/xla/stream_executor/cuda/cuda_dnn.cc:9373] Unable to register cuDNN factory: Attempting to register factory for plugin cuDNN when one has already been registered\n",
      "2024-12-09 20:04:32.812688: E external/local_xla/xla/stream_executor/cuda/cuda_fft.cc:607] Unable to register cuFFT factory: Attempting to register factory for plugin cuFFT when one has already been registered\n",
      "2024-12-09 20:04:33.080581: E external/local_xla/xla/stream_executor/cuda/cuda_blas.cc:1534] Unable to register cuBLAS factory: Attempting to register factory for plugin cuBLAS when one has already been registered\n",
      "2024-12-09 20:04:33.432143: I tensorflow/core/platform/cpu_feature_guard.cc:183] This TensorFlow binary is optimized to use available CPU instructions in performance-critical operations.\n",
      "To enable the following instructions: SSE3 SSE4.1 SSE4.2 AVX, in other operations, rebuild TensorFlow with the appropriate compiler flags.\n"
     ]
    }
   ],
   "source": [
    "# library import statements\n",
    "import pandas as pd\n",
    "import numpy as np\n",
    "import matplotlib.pyplot as plt\n",
    "import seaborn as sns\n",
    "from IPython.display import Image\n",
    "from sklearn.model_selection import train_test_split\n",
    "from sklearn import metrics\n",
    "from sklearn.feature_extraction.text import TfidfVectorizer\n",
    "from sklearn.svm import LinearSVC\n",
    "from sklearn.metrics import confusion_matrix, ConfusionMatrixDisplay\n",
    "import gensim.downloader\n",
    "from gensim.models import Word2Vec\n",
    "from gensim.utils import simple_preprocess\n",
    "from gensim.parsing.porter import PorterStemmer\n",
    "from imblearn.under_sampling import RandomUnderSampler\n",
    "from tensorflow.keras.models import Sequential\n",
    "from tensorflow.keras.layers import Dense, Dropout, Flatten, Conv2D, MaxPooling2D\n",
    "import keras"
   ]
  },
  {
   "cell_type": "code",
   "execution_count": 2,
   "id": "79f68a3e",
   "metadata": {},
   "outputs": [
    {
     "name": "stdout",
     "output_type": "stream",
     "text": [
      "(6417106, 5)\n"
     ]
    },
    {
     "data": {
      "text/html": [
       "<div>\n",
       "<style scoped>\n",
       "    .dataframe tbody tr th:only-of-type {\n",
       "        vertical-align: middle;\n",
       "    }\n",
       "\n",
       "    .dataframe tbody tr th {\n",
       "        vertical-align: top;\n",
       "    }\n",
       "\n",
       "    .dataframe thead th {\n",
       "        text-align: right;\n",
       "    }\n",
       "</style>\n",
       "<table border=\"1\" class=\"dataframe\">\n",
       "  <thead>\n",
       "    <tr style=\"text-align: right;\">\n",
       "      <th></th>\n",
       "      <th>app_id</th>\n",
       "      <th>app_name</th>\n",
       "      <th>review_text</th>\n",
       "      <th>review_score</th>\n",
       "      <th>review_votes</th>\n",
       "    </tr>\n",
       "  </thead>\n",
       "  <tbody>\n",
       "    <tr>\n",
       "      <th>0</th>\n",
       "      <td>10</td>\n",
       "      <td>Counter-Strike</td>\n",
       "      <td>Ruined my life.</td>\n",
       "      <td>1</td>\n",
       "      <td>0</td>\n",
       "    </tr>\n",
       "    <tr>\n",
       "      <th>1</th>\n",
       "      <td>10</td>\n",
       "      <td>Counter-Strike</td>\n",
       "      <td>This will be more of a ''my experience with th...</td>\n",
       "      <td>1</td>\n",
       "      <td>1</td>\n",
       "    </tr>\n",
       "    <tr>\n",
       "      <th>2</th>\n",
       "      <td>10</td>\n",
       "      <td>Counter-Strike</td>\n",
       "      <td>This game saved my virginity.</td>\n",
       "      <td>1</td>\n",
       "      <td>0</td>\n",
       "    </tr>\n",
       "    <tr>\n",
       "      <th>3</th>\n",
       "      <td>10</td>\n",
       "      <td>Counter-Strike</td>\n",
       "      <td>• Do you like original games? • Do you like ga...</td>\n",
       "      <td>1</td>\n",
       "      <td>0</td>\n",
       "    </tr>\n",
       "    <tr>\n",
       "      <th>4</th>\n",
       "      <td>10</td>\n",
       "      <td>Counter-Strike</td>\n",
       "      <td>Easy to learn, hard to master.</td>\n",
       "      <td>1</td>\n",
       "      <td>1</td>\n",
       "    </tr>\n",
       "  </tbody>\n",
       "</table>\n",
       "</div>"
      ],
      "text/plain": [
       "   app_id        app_name                                        review_text  \\\n",
       "0      10  Counter-Strike                                    Ruined my life.   \n",
       "1      10  Counter-Strike  This will be more of a ''my experience with th...   \n",
       "2      10  Counter-Strike                      This game saved my virginity.   \n",
       "3      10  Counter-Strike  • Do you like original games? • Do you like ga...   \n",
       "4      10  Counter-Strike           Easy to learn, hard to master.             \n",
       "\n",
       "   review_score  review_votes  \n",
       "0             1             0  \n",
       "1             1             1  \n",
       "2             1             0  \n",
       "3             1             0  \n",
       "4             1             1  "
      ]
     },
     "execution_count": 2,
     "metadata": {},
     "output_type": "execute_result"
    }
   ],
   "source": [
    "#import data and view shape and first 5 lines\n",
    "game_reviews = pd.read_csv(\"reviews_dataset.csv\")\n",
    "print(game_reviews.shape)\n",
    "game_reviews.head()"
   ]
  },
  {
   "cell_type": "code",
   "execution_count": 3,
   "id": "c8981b1b",
   "metadata": {},
   "outputs": [
    {
     "name": "stdout",
     "output_type": "stream",
     "text": [
      "<class 'pandas.core.frame.DataFrame'>\n",
      "RangeIndex: 6417106 entries, 0 to 6417105\n",
      "Data columns (total 5 columns):\n",
      " #   Column        Dtype \n",
      "---  ------        ----- \n",
      " 0   app_id        int64 \n",
      " 1   app_name      object\n",
      " 2   review_text   object\n",
      " 3   review_score  int64 \n",
      " 4   review_votes  int64 \n",
      "dtypes: int64(3), object(2)\n",
      "memory usage: 244.8+ MB\n"
     ]
    }
   ],
   "source": [
    "game_reviews.info()"
   ]
  },
  {
   "cell_type": "code",
   "execution_count": 4,
   "id": "65b99d91",
   "metadata": {
    "scrolled": true
   },
   "outputs": [
    {
     "data": {
      "text/plain": [
       "review_score\n",
       " 1    5254116\n",
       "-1    1155685\n",
       "Name: count, dtype: int64"
      ]
     },
     "execution_count": 4,
     "metadata": {},
     "output_type": "execute_result"
    }
   ],
   "source": [
    "game_reviews[\"app_name\"].value_counts()\n",
    "game_reviews = game_reviews.drop(\"app_id\", axis=1)\n",
    "game_reviews = game_reviews.drop(\"app_name\", axis=1)\n",
    "game_reviews = game_reviews.drop(\"review_votes\", axis=1)\n",
    "game_reviews = game_reviews.dropna(how='any',axis=0)\n",
    "game_reviews[\"review_score\"].value_counts()"
   ]
  },
  {
   "cell_type": "code",
   "execution_count": null,
   "id": "65181fce",
   "metadata": {},
   "outputs": [],
   "source": [
    "#Baseline"
   ]
  },
  {
   "cell_type": "code",
   "execution_count": null,
   "id": "7d85d128",
   "metadata": {},
   "outputs": [],
   "source": [
    "vectorizer = TfidfVectorizer(stop_words='english', max_df=0.7)\n",
    "X = vectorizer.fit_transform(game_reviews[\"review_text\"])\n",
    "print(X)\n",
    "\n",
    "X_train, X_test, y_train, y_test = train_test_split(X, game_reviews['review_score'], test_size=0.3,\n",
    "                                                    stratify=game_reviews['review_score'], random_state=0)"
   ]
  },
  {
   "cell_type": "code",
   "execution_count": null,
   "id": "5e640787",
   "metadata": {},
   "outputs": [],
   "source": [
    "model = LinearSVC(random_state=0, tol=1e-5)\n",
    "model.fit(X_train, y_train)"
   ]
  },
  {
   "cell_type": "code",
   "execution_count": null,
   "id": "9eba245c",
   "metadata": {},
   "outputs": [],
   "source": [
    "y_pred = model.predict(X_test)\n",
    "print(metrics.accuracy_score(y_pred, y_test))\n",
    "\n",
    "cm = confusion_matrix(y_test, y_pred, labels=model.classes_)\n",
    "disp = ConfusionMatrixDisplay(confusion_matrix=cm, display_labels=model.classes_)\n",
    "disp.plot(cmap=plt.cm.Blues)\n",
    "plt.title('Confusion Matrix')\n",
    "plt.show()"
   ]
  },
  {
   "cell_type": "code",
   "execution_count": null,
   "id": "259f0f92",
   "metadata": {},
   "outputs": [],
   "source": [
    "#Undersampling"
   ]
  },
  {
   "cell_type": "code",
   "execution_count": null,
   "id": "bfd7597a-3ee6-4bb4-b9e4-bc57114ece72",
   "metadata": {},
   "outputs": [],
   "source": [
    "vectorizer = TfidfVectorizer(stop_words='english', max_df=0.7)\n",
    "rus = RandomUnderSampler(random_state=0)\n",
    "X_resampled, y_resampled = rus.fit_resample(pd.DataFrame(game_reviews[\"review_text\"]), pd.DataFrame(game_reviews['review_score']))\n",
    "X = vectorizer.fit_transform(X_resampled[\"review_text\"])\n",
    "\n",
    "X_train, X_test, y_train, y_test = train_test_split(X, y_resampled['review_score'], test_size=0.3,\n",
    "                                                    stratify=y_resampled['review_score'], random_state=0)"
   ]
  },
  {
   "cell_type": "code",
   "execution_count": null,
   "id": "18e9d162-0896-4eca-a44f-f8890ca0113c",
   "metadata": {},
   "outputs": [],
   "source": [
    "model = LinearSVC(random_state=0, tol=1e-5)\n",
    "model.fit(X_train, y_train)\n",
    "y_pred = model.predict(X_test)\n",
    "print(metrics.accuracy_score(y_pred, y_test))\n",
    "\n",
    "cm = confusion_matrix(y_test, y_pred, labels=model.classes_)\n",
    "disp = ConfusionMatrixDisplay(confusion_matrix=cm, display_labels=model.classes_)\n",
    "disp.plot(cmap=plt.cm.Blues)\n",
    "plt.title('Confusion Matrix')\n",
    "plt.show()"
   ]
  },
  {
   "cell_type": "code",
   "execution_count": null,
   "id": "d891b751",
   "metadata": {},
   "outputs": [],
   "source": [
    "#Undersampling and Semantic"
   ]
  },
  {
   "cell_type": "code",
   "execution_count": null,
   "id": "7c76cec5-132e-490e-a264-11d494be5d4d",
   "metadata": {},
   "outputs": [],
   "source": [
    "rus = RandomUnderSampler(random_state=0)\n",
    "X_resampled, y_resampled = rus.fit_resample(pd.DataFrame(game_reviews[\"review_text\"]), pd.DataFrame(game_reviews['review_score']))\n",
    "\n",
    "resampled = pd.DataFrame()\n",
    "resampled['review_text'] = X_resampled['review_text']\n",
    "resampled['review_score'] = y_resampled['review_score']\n",
    "\n",
    "resampled['tokenized_text'] = [simple_preprocess(line, deacc=True) for line in resampled['review_text']]\n",
    "\n",
    "porter_stemmer = PorterStemmer()\n",
    "resampled['stemmed_tokens'] = [[porter_stemmer.stem(word) for word in tokens] for tokens in resampled['tokenized_text'] ]\n",
    "\n",
    "resampled = resampled[resampled.stemmed_tokens.str.len() > 0]\n",
    "\n",
    "w2v_model = Word2Vec(resampled[\"stemmed_tokens\"], min_count=1, vector_size=100, window=5)"
   ]
  },
  {
   "cell_type": "code",
   "execution_count": null,
   "id": "8f34200b-6170-46bd-95b4-59fb493077c5",
   "metadata": {
    "scrolled": false
   },
   "outputs": [],
   "source": [
    "review_vectors = []\n",
    "for row in resampled[\"stemmed_tokens\"]:\n",
    "    review_vectors.append(w2v_model.wv.get_mean_vector(row))\n",
    "review_vectors_df = pd.DataFrame(review_vectors)"
   ]
  },
  {
   "cell_type": "code",
   "execution_count": null,
   "id": "325ab800-cf27-48dd-aae6-94f26c358452",
   "metadata": {},
   "outputs": [],
   "source": [
    "X_train, X_test, y_train, y_test = train_test_split(review_vectors_df[:], resampled['review_score'], test_size=0.3,\n",
    "                                                    stratify=resampled['review_score'], random_state=0)\n",
    "model = LinearSVC(random_state=0, tol=1e-5)\n",
    "model.fit(X_train, y_train)\n",
    "y_pred = model.predict(X_test)\n",
    "print(metrics.accuracy_score(y_pred, y_test))\n",
    "\n",
    "cm = confusion_matrix(y_test, y_pred, labels=model.classes_)\n",
    "disp = ConfusionMatrixDisplay(confusion_matrix=cm, display_labels=model.classes_)\n",
    "disp.plot(cmap=plt.cm.Blues)\n",
    "plt.title('Confusion Matrix')\n",
    "plt.show()"
   ]
  },
  {
   "cell_type": "code",
   "execution_count": null,
   "id": "a1b9c352",
   "metadata": {},
   "outputs": [],
   "source": [
    "#Semantic"
   ]
  },
  {
   "cell_type": "code",
   "execution_count": null,
   "id": "09c2cd00-4dbd-458e-bad4-7bbcfa99cb08",
   "metadata": {},
   "outputs": [],
   "source": [
    "game_reviews['tokenized_text'] = [simple_preprocess(line, deacc=True) for line in game_reviews['review_text']]\n",
    "\n",
    "porter_stemmer = PorterStemmer()\n",
    "game_reviews['stemmed_tokens'] = [[porter_stemmer.stem(word) for word in tokens] for tokens in game_reviews['tokenized_text'] ]\n",
    "\n",
    "game_reviews = game_reviews[game_reviews.stemmed_tokens.str.len() > 0]\n",
    "\n",
    "w2v_model = Word2Vec(game_reviews[\"stemmed_tokens\"], min_count=1, vector_size=100, window=5)"
   ]
  },
  {
   "cell_type": "code",
   "execution_count": null,
   "id": "afa97dfe",
   "metadata": {},
   "outputs": [],
   "source": [
    "review_vectors = []\n",
    "for row in game_reviews[\"stemmed_tokens\"]:\n",
    "    review_vectors.append(w2v_model.wv.get_mean_vector(row))\n",
    "review_vectors_df = pd.DataFrame(review_vectors)"
   ]
  },
  {
   "cell_type": "code",
   "execution_count": null,
   "id": "1fff1219",
   "metadata": {},
   "outputs": [],
   "source": [
    "X_train, X_test, y_train, y_test = train_test_split(review_vectors_df[:], game_reviews['review_score'], test_size=0.3,\n",
    "                                                    stratify=game_reviews['review_score'], random_state=0)\n",
    "model = LinearSVC(random_state=0, tol=1e-5)\n",
    "model.fit(X_train, y_train)\n",
    "y_pred = model.predict(X_test)\n",
    "print(metrics.accuracy_score(y_pred, y_test))\n",
    "\n",
    "cm = confusion_matrix(y_test, y_pred, labels=model.classes_)\n",
    "disp = ConfusionMatrixDisplay(confusion_matrix=cm, display_labels=model.classes_)\n",
    "disp.plot(cmap=plt.cm.Blues)\n",
    "plt.title('Confusion Matrix')\n",
    "plt.show()"
   ]
  },
  {
   "cell_type": "code",
   "execution_count": null,
   "id": "72ea9c98",
   "metadata": {},
   "outputs": [],
   "source": [
    "#Undersampled and Semantic CNN"
   ]
  },
  {
   "cell_type": "code",
   "execution_count": 5,
   "id": "c93524e4",
   "metadata": {},
   "outputs": [],
   "source": [
    "rus = RandomUnderSampler(random_state=0)\n",
    "X_resampled, y_resampled = rus.fit_resample(pd.DataFrame(game_reviews[\"review_text\"]), pd.DataFrame(game_reviews['review_score']))\n",
    "\n",
    "resampled = pd.DataFrame()\n",
    "resampled['review_text'] = X_resampled['review_text']\n",
    "resampled['review_score'] = y_resampled['review_score']\n",
    "\n",
    "resampled['tokenized_text'] = [simple_preprocess(line, deacc=True) for line in resampled['review_text']]\n",
    "\n",
    "porter_stemmer = PorterStemmer()\n",
    "resampled['stemmed_tokens'] = [[porter_stemmer.stem(word) for word in tokens] for tokens in resampled['tokenized_text'] ]\n",
    "\n",
    "resampled = resampled[resampled.stemmed_tokens.str.len() > 0]\n",
    "\n",
    "w2v_model = Word2Vec(resampled[\"stemmed_tokens\"], min_count=1, vector_size=100, window=5)\n",
    "\n",
    "review_vectors = []\n",
    "for row in resampled[\"stemmed_tokens\"]:\n",
    "    review_vectors.append(w2v_model.wv.get_mean_vector(row))\n",
    "review_vectors_df = pd.DataFrame(review_vectors)\n",
    "resampled['review_score'] = (resampled['review_score'] + 1)/2"
   ]
  },
  {
   "cell_type": "code",
   "execution_count": 6,
   "id": "ef972863",
   "metadata": {},
   "outputs": [],
   "source": [
    "X_train, X_test, y_train, y_test = train_test_split(review_vectors_df[:], resampled['review_score'], test_size=0.3,\n",
    "                                                    stratify=resampled['review_score'], random_state=0)"
   ]
  },
  {
   "cell_type": "code",
   "execution_count": 9,
   "id": "df975e67",
   "metadata": {},
   "outputs": [
    {
     "name": "stdout",
     "output_type": "stream",
     "text": [
      "25131/25131 [==============================] - 78s 3ms/step - loss: 0.5040 - accuracy: 0.7554 - val_loss: 0.4984 - val_accuracy: 0.7607\n"
     ]
    },
    {
     "data": {
      "image/png": "[encoded data removed]",
      "text/plain": [
       "<Figure size 640x480 with 1 Axes>"
      ]
     },
     "metadata": {},
     "output_type": "display_data"
    },
    {
     "name": "stdout",
     "output_type": "stream",
     "text": [
      "Accuracy: 76.07%\n"
     ]
    }
   ],
   "source": [
    "cnn_model = Sequential()\n",
    "cnn_model.add(Dense(50, activation = \"linear\"))\n",
    "cnn_model.add(Dropout(0.3, noise_shape=None, seed=None))\n",
    "cnn_model.add(Dense(50, activation = \"linear\"))\n",
    "cnn_model.add(Dropout(0.2, noise_shape=None, seed=None))\n",
    "cnn_model.add(Dense(50, activation = \"linear\"))\n",
    "cnn_model.add(Dense(1, activation = \"sigmoid\"))\n",
    "\n",
    "cnn_model.compile(loss=\"binary_crossentropy\",\n",
    "                optimizer=\"Adam\",\n",
    "                metrics=['accuracy'])\n",
    "history = cnn_model.fit(X_train, y_train, 64,\n",
    "                    epochs= 15,\n",
    "                    validation_data= (X_test, y_test))\n",
    "plt.plot(history.history['accuracy'])\n",
    "plt.plot(history.history['val_accuracy'])\n",
    "plt.title('model accuracy')\n",
    "plt.ylabel('accuracy')\n",
    "plt.xlabel('epoch')\n",
    "plt.legend(['train', 'validation'], loc='upper left')\n",
    "plt.show()\n",
    "\n",
    "scores = cnn_model.evaluate(X_test, y_test, verbose=0)\n",
    "print(\"Accuracy: %.2f%%\" % (scores[1]*100))"
   ]
  },
  {
   "cell_type": "code",
   "execution_count": 11,
   "id": "4fedd5ac",
   "metadata": {},
   "outputs": [
    {
     "name": "stdout",
     "output_type": "stream",
     "text": [
      "21541/21541 [==============================] - 28s 1ms/step\n"
     ]
    }
   ],
   "source": [
    "y_pred = cnn_model.predict(X_test)\n",
    "predicted_classes = np.round(y_pred)"
   ]
  },
  {
   "cell_type": "code",
   "execution_count": 15,
   "id": "f6941580",
   "metadata": {},
   "outputs": [
    {
     "name": "stdout",
     "output_type": "stream",
     "text": [
      "0.7606857570631469\n"
     ]
    },
    {
     "data": {
      "image/png": "[encoded data removed]",
      "text/plain": [
       "<Figure size 640x480 with 2 Axes>"
      ]
     },
     "metadata": {},
     "output_type": "display_data"
    },
    {
     "data": {
      "text/plain": [
       "0  \n",
       "0.0    397700\n",
       "1.0    291582\n",
       "Name: count, dtype: int64"
      ]
     },
     "execution_count": 15,
     "metadata": {},
     "output_type": "execute_result"
    }
   ],
   "source": [
    "print(metrics.accuracy_score(predicted_classes, y_test))\n",
    "\n",
    "cm = confusion_matrix(y_test, predicted_classes)\n",
    "disp = ConfusionMatrixDisplay(confusion_matrix=cm, display_labels=[0,1])\n",
    "disp.plot(cmap=plt.cm.Blues)\n",
    "plt.title('Confusion Matrix')\n",
    "plt.show()"
   ]
  },
  {
   "cell_type": "code",
   "execution_count": null,
   "id": "aaf35f29",
   "metadata": {},
   "outputs": [],
   "source": []
  },
  {
   "cell_type": "code",
   "execution_count": 16,
   "id": "777e0c17",
   "metadata": {
    "scrolled": true
   },
   "outputs": [
    {
     "name": "stdout",
     "output_type": "stream",
     "text": [
      "[--------------------------------------------------] 1.7% 28.0/1662.8MB downloaded"
     ]
    },
    {
     "name": "stderr",
     "output_type": "stream",
     "text": [
      "IOPub message rate exceeded.\n",
      "The notebook server will temporarily stop sending output\n",
      "to the client in order to avoid crashing it.\n",
      "To change this limit, set the config variable\n",
      "`--NotebookApp.iopub_msg_rate_limit`.\n",
      "\n",
      "Current values:\n",
      "NotebookApp.iopub_msg_rate_limit=1000.0 (msgs/sec)\n",
      "NotebookApp.rate_limit_window=3.0 (secs)\n",
      "\n"
     ]
    },
    {
     "name": "stdout",
     "output_type": "stream",
     "text": [
      "[=====---------------------------------------------] 10.3% 170.8/1662.8MB downloaded"
     ]
    },
    {
     "name": "stderr",
     "output_type": "stream",
     "text": [
      "IOPub message rate exceeded.\n",
      "The notebook server will temporarily stop sending output\n",
      "to the client in order to avoid crashing it.\n",
      "To change this limit, set the config variable\n",
      "`--NotebookApp.iopub_msg_rate_limit`.\n",
      "\n",
      "Current values:\n",
      "NotebookApp.iopub_msg_rate_limit=1000.0 (msgs/sec)\n",
      "NotebookApp.rate_limit_window=3.0 (secs)\n",
      "\n"
     ]
    },
    {
     "name": "stdout",
     "output_type": "stream",
     "text": [
      "[=======-------------------------------------------] 14.1% 233.9/1662.8MB downloaded"
     ]
    },
    {
     "name": "stderr",
     "output_type": "stream",
     "text": [
      "IOPub message rate exceeded.\n",
      "The notebook server will temporarily stop sending output\n",
      "to the client in order to avoid crashing it.\n",
      "To change this limit, set the config variable\n",
      "`--NotebookApp.iopub_msg_rate_limit`.\n",
      "\n",
      "Current values:\n",
      "NotebookApp.iopub_msg_rate_limit=1000.0 (msgs/sec)\n",
      "NotebookApp.rate_limit_window=3.0 (secs)\n",
      "\n"
     ]
    },
    {
     "name": "stdout",
     "output_type": "stream",
     "text": [
      "[========------------------------------------------] 17.9% 297.0/1662.8MB downloaded"
     ]
    },
    {
     "name": "stderr",
     "output_type": "stream",
     "text": [
      "IOPub message rate exceeded.\n",
      "The notebook server will temporarily stop sending output\n",
      "to the client in order to avoid crashing it.\n",
      "To change this limit, set the config variable\n",
      "`--NotebookApp.iopub_msg_rate_limit`.\n",
      "\n",
      "Current values:\n",
      "NotebookApp.iopub_msg_rate_limit=1000.0 (msgs/sec)\n",
      "NotebookApp.rate_limit_window=3.0 (secs)\n",
      "\n"
     ]
    },
    {
     "name": "stdout",
     "output_type": "stream",
     "text": [
      "[==========----------------------------------------] 21.5% 357.8/1662.8MB downloaded"
     ]
    },
    {
     "name": "stderr",
     "output_type": "stream",
     "text": [
      "IOPub message rate exceeded.\n",
      "The notebook server will temporarily stop sending output\n",
      "to the client in order to avoid crashing it.\n",
      "To change this limit, set the config variable\n",
      "`--NotebookApp.iopub_msg_rate_limit`.\n",
      "\n",
      "Current values:\n",
      "NotebookApp.iopub_msg_rate_limit=1000.0 (msgs/sec)\n",
      "NotebookApp.rate_limit_window=3.0 (secs)\n",
      "\n"
     ]
    },
    {
     "name": "stdout",
     "output_type": "stream",
     "text": [
      "[============--------------------------------------] 25.3% 420.3/1662.8MB downloaded"
     ]
    },
    {
     "name": "stderr",
     "output_type": "stream",
     "text": [
      "IOPub message rate exceeded.\n",
      "The notebook server will temporarily stop sending output\n",
      "to the client in order to avoid crashing it.\n",
      "To change this limit, set the config variable\n",
      "`--NotebookApp.iopub_msg_rate_limit`.\n",
      "\n",
      "Current values:\n",
      "NotebookApp.iopub_msg_rate_limit=1000.0 (msgs/sec)\n",
      "NotebookApp.rate_limit_window=3.0 (secs)\n",
      "\n"
     ]
    },
    {
     "name": "stdout",
     "output_type": "stream",
     "text": [
      "[==============------------------------------------] 28.9% 480.8/1662.8MB downloaded"
     ]
    },
    {
     "name": "stderr",
     "output_type": "stream",
     "text": [
      "IOPub message rate exceeded.\n",
      "The notebook server will temporarily stop sending output\n",
      "to the client in order to avoid crashing it.\n",
      "To change this limit, set the config variable\n",
      "`--NotebookApp.iopub_msg_rate_limit`.\n",
      "\n",
      "Current values:\n",
      "NotebookApp.iopub_msg_rate_limit=1000.0 (msgs/sec)\n",
      "NotebookApp.rate_limit_window=3.0 (secs)\n",
      "\n"
     ]
    },
    {
     "name": "stdout",
     "output_type": "stream",
     "text": [
      "[================----------------------------------] 32.7% 543.7/1662.8MB downloaded"
     ]
    },
    {
     "name": "stderr",
     "output_type": "stream",
     "text": [
      "IOPub message rate exceeded.\n",
      "The notebook server will temporarily stop sending output\n",
      "to the client in order to avoid crashing it.\n",
      "To change this limit, set the config variable\n",
      "`--NotebookApp.iopub_msg_rate_limit`.\n",
      "\n",
      "Current values:\n",
      "NotebookApp.iopub_msg_rate_limit=1000.0 (msgs/sec)\n",
      "NotebookApp.rate_limit_window=3.0 (secs)\n",
      "\n"
     ]
    },
    {
     "name": "stdout",
     "output_type": "stream",
     "text": [
      "[=================---------------------------------] 35.7% 594.2/1662.8MB downloaded"
     ]
    }
   ],
   "source": [
    "google_model = gensim.downloader.load('word2vec-google-news-300')"
   ]
  },
  {
   "cell_type": "code",
   "execution_count": 18,
   "id": "e28359b2",
   "metadata": {},
   "outputs": [
    {
     "ename": "AttributeError",
     "evalue": "'KeyedVectors' object has no attribute 'wv'",
     "output_type": "error",
     "traceback": [
      "\u001b[0;31m---------------------------------------------------------------------------\u001b[0m",
      "\u001b[0;31mAttributeError\u001b[0m                            Traceback (most recent call last)",
      "Cell \u001b[0;32mIn[18], line 17\u001b[0m\n\u001b[1;32m     15\u001b[0m review_vectors \u001b[38;5;241m=\u001b[39m []\n\u001b[1;32m     16\u001b[0m \u001b[38;5;28;01mfor\u001b[39;00m row \u001b[38;5;129;01min\u001b[39;00m resampled[\u001b[38;5;124m\"\u001b[39m\u001b[38;5;124mstemmed_tokens\u001b[39m\u001b[38;5;124m\"\u001b[39m]:\n\u001b[0;32m---> 17\u001b[0m     review_vectors\u001b[38;5;241m.\u001b[39mappend(\u001b[43mgoogle_model\u001b[49m\u001b[38;5;241;43m.\u001b[39;49m\u001b[43mwv\u001b[49m\u001b[38;5;241m.\u001b[39mget_mean_vector(row))\n\u001b[1;32m     18\u001b[0m review_vectors_df \u001b[38;5;241m=\u001b[39m pd\u001b[38;5;241m.\u001b[39mDataFrame(review_vectors)\n\u001b[1;32m     19\u001b[0m resampled[\u001b[38;5;124m'\u001b[39m\u001b[38;5;124mreview_score\u001b[39m\u001b[38;5;124m'\u001b[39m] \u001b[38;5;241m=\u001b[39m (resampled[\u001b[38;5;124m'\u001b[39m\u001b[38;5;124mreview_score\u001b[39m\u001b[38;5;124m'\u001b[39m] \u001b[38;5;241m+\u001b[39m \u001b[38;5;241m1\u001b[39m)\u001b[38;5;241m/\u001b[39m\u001b[38;5;241m2\u001b[39m\n",
      "\u001b[0;31mAttributeError\u001b[0m: 'KeyedVectors' object has no attribute 'wv'"
     ]
    }
   ],
   "source": [
    "rus = RandomUnderSampler(random_state=0)\n",
    "X_resampled, y_resampled = rus.fit_resample(pd.DataFrame(game_reviews[\"review_text\"]), pd.DataFrame(game_reviews['review_score']))\n",
    "\n",
    "resampled = pd.DataFrame()\n",
    "resampled['review_text'] = X_resampled['review_text']\n",
    "resampled['review_score'] = y_resampled['review_score']\n",
    "\n",
    "resampled['tokenized_text'] = [simple_preprocess(line, deacc=True) for line in resampled['review_text']]\n",
    "\n",
    "porter_stemmer = PorterStemmer()\n",
    "resampled['stemmed_tokens'] = [[porter_stemmer.stem(word) for word in tokens] for tokens in resampled['tokenized_text'] ]\n",
    "\n",
    "resampled = resampled[resampled.stemmed_tokens.str.len() > 0]"
   ]
  },
  {
   "cell_type": "code",
   "execution_count": 21,
   "id": "6cd2264f",
   "metadata": {},
   "outputs": [],
   "source": [
    "review_vectors = []\n",
    "for row in resampled[\"stemmed_tokens\"]:\n",
    "    review_vectors.append(google_model.get_mean_vector(row))\n",
    "review_vectors_df = pd.DataFrame(review_vectors)\n",
    "resampled['review_score'] = (resampled['review_score'] + 1)/2\n",
    "\n",
    "X_train, X_test, y_train, y_test = train_test_split(review_vectors_df[:], resampled['review_score'], test_size=0.3,\n",
    "                                                    stratify=resampled['review_score'], random_state=0)"
   ]
  },
  {
   "cell_type": "code",
   "execution_count": 24,
   "id": "557f58cd",
   "metadata": {},
   "outputs": [
    {
     "name": "stdout",
     "output_type": "stream",
     "text": [
      "Epoch 1/10\n",
      "25131/25131 [==============================] - 90s 4ms/step - loss: 0.5299 - accuracy: 0.7240 - val_loss: 0.5062 - val_accuracy: 0.7429\n",
      "Epoch 2/10\n",
      "25131/25131 [==============================] - 74s 3ms/step - loss: 0.5162 - accuracy: 0.7336 - val_loss: 0.5035 - val_accuracy: 0.7406\n",
      "Epoch 3/10\n",
      "25131/25131 [==============================] - 70s 3ms/step - loss: 0.5121 - accuracy: 0.7360 - val_loss: 0.5174 - val_accuracy: 0.7302\n",
      "Epoch 4/10\n",
      "25131/25131 [==============================] - 68s 3ms/step - loss: 0.5099 - accuracy: 0.7384 - val_loss: 0.5026 - val_accuracy: 0.7458\n",
      "Epoch 5/10\n",
      "25131/25131 [==============================] - 65s 3ms/step - loss: 0.5082 - accuracy: 0.7393 - val_loss: 0.4940 - val_accuracy: 0.7455\n",
      "Epoch 6/10\n",
      "25131/25131 [==============================] - 71s 3ms/step - loss: 0.5072 - accuracy: 0.7403 - val_loss: 0.4935 - val_accuracy: 0.7506\n",
      "Epoch 7/10\n",
      "25131/25131 [==============================] - 72s 3ms/step - loss: 0.5061 - accuracy: 0.7408 - val_loss: 0.4889 - val_accuracy: 0.7501\n",
      "Epoch 8/10\n",
      "25131/25131 [==============================] - 84s 3ms/step - loss: 0.5052 - accuracy: 0.7409 - val_loss: 0.4977 - val_accuracy: 0.7503\n",
      "Epoch 9/10\n",
      "25131/25131 [==============================] - 88s 3ms/step - loss: 0.5060 - accuracy: 0.7409 - val_loss: 0.4940 - val_accuracy: 0.7481\n",
      "Epoch 10/10\n",
      "25131/25131 [==============================] - 79s 3ms/step - loss: 0.5055 - accuracy: 0.7417 - val_loss: 0.4945 - val_accuracy: 0.7493\n"
     ]
    },
    {
     "data": {
      "image/png": "[encoded data removed]",
      "text/plain": [
       "<Figure size 640x480 with 1 Axes>"
      ]
     },
     "metadata": {},
     "output_type": "display_data"
    },
    {
     "name": "stdout",
     "output_type": "stream",
     "text": [
      "Accuracy: 74.93%\n"
     ]
    }
   ],
   "source": [
    "cnn_model = Sequential()\n",
    "cnn_model.add(Dense(50, activation = \"relu\"))\n",
    "cnn_model.add(Dropout(0.3, noise_shape=None, seed=None))\n",
    "cnn_model.add(Dense(50, activation = \"relu\"))\n",
    "cnn_model.add(Dropout(0.2, noise_shape=None, seed=None))\n",
    "cnn_model.add(Dense(50, activation = \"relu\"))\n",
    "cnn_model.add(Dense(1, activation = \"sigmoid\"))\n",
    "\n",
    "optimizer = keras.optimizers.Adam(learning_rate=0.01)\n",
    "cnn_model.compile(loss=\"binary_crossentropy\",\n",
    "                optimizer=optimizer,\n",
    "                metrics=['accuracy'])\n",
    "history = cnn_model.fit(X_train, y_train, 64,\n",
    "                    epochs= 10,\n",
    "                    validation_data= (X_test, y_test))\n",
    "plt.plot(history.history['accuracy'])\n",
    "plt.plot(history.history['val_accuracy'])\n",
    "plt.title('model accuracy')\n",
    "plt.ylabel('accuracy')\n",
    "plt.xlabel('epoch')\n",
    "plt.legend(['train', 'validation'], loc='upper left')\n",
    "plt.show()\n",
    "\n",
    "scores = cnn_model.evaluate(X_test, y_test, verbose=0)\n",
    "print(\"Accuracy: %.2f%%\" % (scores[1]*100))"
   ]
  },
  {
   "cell_type": "code",
   "execution_count": 23,
   "id": "456aedb4",
   "metadata": {},
   "outputs": [
    {
     "name": "stdout",
     "output_type": "stream",
     "text": [
      "21541/21541 [==============================] - 23s 1ms/step\n",
      "0.7645999750464977\n"
     ]
    },
    {
     "data": {
      "image/png": "[encoded data removed]",
      "text/plain": [
       "<Figure size 640x480 with 2 Axes>"
      ]
     },
     "metadata": {},
     "output_type": "display_data"
    }
   ],
   "source": [
    "y_pred = cnn_model.predict(X_test)\n",
    "predicted_classes = np.round(y_pred)\n",
    "\n",
    "print(metrics.accuracy_score(predicted_classes, y_test))\n",
    "\n",
    "cm = confusion_matrix(y_test, predicted_classes)\n",
    "disp = ConfusionMatrixDisplay(confusion_matrix=cm, display_labels=[0,1])\n",
    "disp.plot(cmap=plt.cm.Blues)\n",
    "plt.title('Confusion Matrix')\n",
    "plt.show()"
   ]
  },
  {
   "cell_type": "code",
   "execution_count": null,
   "id": "bce4abdc",
   "metadata": {},
   "outputs": [],
   "source": []
  }
 ],
 "metadata": {
  "kernelspec": {
   "display_name": "Python 3 (ipykernel)",
   "language": "python",
   "name": "python3"
  },
  "language_info": {
   "codemirror_mode": {
    "name": "ipython",
    "version": 3
   },
   "file_extension": ".py",
   "mimetype": "text/x-python",
   "name": "python",
   "nbconvert_exporter": "python",
   "pygments_lexer": "ipython3",
   "version": "3.10.12"
  }
 },
 "nbformat": 4,
 "nbformat_minor": 5
}
